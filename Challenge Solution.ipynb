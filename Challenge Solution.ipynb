{
 "cells": [
  {
   "cell_type": "markdown",
   "metadata": {},
   "source": [
    "# Chanllenge description: \n",
    "\n",
    "Using the given dataset of transactions (notas fiscais eletrônicas) from a restaurant:\n",
    "https://github.com/TOTVS/MDMStatic/blob/master/code-challenge/TOTVS%20Labs%20-%20AI%20Challenge%20-%20Dataset.zip?raw=true \n",
    "\n",
    "1. Parse and extract the data.\n",
    "2. Identify a pattern on any set of fields that can help predict how much a customer will spend.\n",
    "3. Calculate a sales forecast for the next week."
   ]
  },
  {
   "cell_type": "markdown",
   "metadata": {},
   "source": [
    "# 1. Parse and extract the data."
   ]
  },
  {
   "cell_type": "code",
   "execution_count": 5,
   "metadata": {
    "collapsed": false
   },
   "outputs": [
    {
     "name": "stdout",
     "output_type": "stream",
     "text": [
      "{\n",
      "  \"complemento\": {\n",
      "    \"valorTotal\": 24.9\n",
      "  }, \n",
      "  \"dets\": [\n",
      "    {\n",
      "      \"nItem\": \"1\", \n",
      "      \"prod\": {\n",
      "        \"indTot\": \"1\", \n",
      "        \"qCom\": 1.0, \n",
      "        \"uCom\": \"UN\", \n",
      "        \"vProd\": 3.5, \n",
      "        \"vUnCom\": 3.5, \n",
      "        \"xProd\": \"AGUA\"\n",
      "      }\n",
      "    }, \n",
      "    {\n",
      "      \"nItem\": \"2\", \n",
      "      \"prod\": {\n",
      "        \"indTot\": \"1\", \n",
      "        \"qCom\": 0.312, \n",
      "        \"uCom\": \"KG\", \n",
      "        \"vProd\": 21.4, \n",
      "        \"vUnCom\": 68.6, \n",
      "        \"xProd\": \"BUFFET\"\n",
      "      }\n",
      "    }\n",
      "  ], \n",
      "  \"emit\": {\n",
      "    \"cnpj\": \"01.234.567/0001-89\", \n",
      "    \"enderEmit\": {\n",
      "      \"fone\": \"1-650-933-4902\", \n",
      "      \"uf\": \"CA\", \n",
      "      \"xBairro\": \"\", \n",
      "      \"xLgr\": \"650 Castro St. unit 210\", \n",
      "      \"xMun\": \"Mountain View\", \n",
      "      \"xPais\": \"United States\"\n",
      "    }, \n",
      "    \"xFant\": \"TOTVS Labs\"\n",
      "  }, \n",
      "  \"id\": 0, \n",
      "  \"ide\": {\n",
      "    \"dhEmi\": {\n",
      "      \"$date\": \"2016-01-05T12:01:54.000Z\"\n",
      "    }, \n",
      "    \"natOp\": \"VENDA\"\n",
      "  }, \n",
      "  \"infAdic\": {\n",
      "    \"infCpl\": \"Mesa 2\"\n",
      "  }, \n",
      "  \"total\": {\n",
      "    \"icmsTot\": {\n",
      "      \"vDesc\": 0.0, \n",
      "      \"vFrete\": 0.0, \n",
      "      \"vOutro\": 0.0, \n",
      "      \"vProd\": 24.9, \n",
      "      \"vSeg\": 0.0, \n",
      "      \"vTotTrib\": 2.53, \n",
      "      \"vbc\": 0.0, \n",
      "      \"vbcst\": 0.0, \n",
      "      \"vcofins\": 0.0, \n",
      "      \"vicms\": 0.0, \n",
      "      \"vicmsDeson\": 0.0, \n",
      "      \"vii\": 0.0, \n",
      "      \"vipi\": 0.0, \n",
      "      \"vnf\": 24.9, \n",
      "      \"vpis\": 0.0, \n",
      "      \"vst\": 0.0\n",
      "    }\n",
      "  }, \n",
      "  \"versaoDocumento\": 1.0\n",
      "}\n"
     ]
    }
   ],
   "source": [
    "import json\n",
    "import pandas as pd\n",
    "import datetime\n",
    "from flatten_json import flatten\n",
    "from utils import print_pretty_json, pop_columns_which_name_contains    \n",
    "    \n",
    "# reading from json file to a dcitionary\n",
    "data_dict = None\n",
    "with open('data/sample.txt') as json_data:\n",
    "    data_dict = json.load(json_data)\n",
    "\n",
    "# add an id to each transaction\n",
    "# cause if doesnt have a easy to spot one\n",
    "for i in range(len(data_dict)):\n",
    "    data_dict[i]['id'] = i\n",
    "    \n",
    "# print an example of a transtion\n",
    "print_pretty_json(data_dict[0])\n"
   ]
  },
  {
   "cell_type": "markdown",
   "metadata": {},
   "source": [
    "### 1.1 Flattening the data\n",
    "\n",
    "\n",
    "We can see that the key 'dets' has a list as value. This will make it complicated for us to turn it into data frame.\n"
   ]
  },
  {
   "cell_type": "code",
   "execution_count": 6,
   "metadata": {
    "collapsed": false
   },
   "outputs": [
    {
     "data": {
      "text/html": [
       "<div>\n",
       "<style>\n",
       "    .dataframe thead tr:only-child th {\n",
       "        text-align: right;\n",
       "    }\n",
       "\n",
       "    .dataframe thead th {\n",
       "        text-align: left;\n",
       "    }\n",
       "\n",
       "    .dataframe tbody tr th {\n",
       "        vertical-align: top;\n",
       "    }\n",
       "</style>\n",
       "<table border=\"1\" class=\"dataframe\">\n",
       "  <thead>\n",
       "    <tr style=\"text-align: right;\">\n",
       "      <th></th>\n",
       "      <th>complemento.valorTotal</th>\n",
       "      <th>dets</th>\n",
       "      <th>emit.cnpj</th>\n",
       "      <th>emit.enderEmit.fone</th>\n",
       "      <th>emit.enderEmit.uf</th>\n",
       "      <th>emit.enderEmit.xBairro</th>\n",
       "      <th>emit.enderEmit.xLgr</th>\n",
       "      <th>emit.enderEmit.xMun</th>\n",
       "      <th>emit.enderEmit.xPais</th>\n",
       "      <th>emit.xFant</th>\n",
       "      <th>...</th>\n",
       "      <th>total.icmsTot.vcofins</th>\n",
       "      <th>total.icmsTot.vicms</th>\n",
       "      <th>total.icmsTot.vicmsDeson</th>\n",
       "      <th>total.icmsTot.vii</th>\n",
       "      <th>total.icmsTot.vipi</th>\n",
       "      <th>total.icmsTot.vnf</th>\n",
       "      <th>total.icmsTot.vpis</th>\n",
       "      <th>total.icmsTot.vst</th>\n",
       "      <th>versaoDocumento</th>\n",
       "      <th>versaoDocumento.$numberLong</th>\n",
       "    </tr>\n",
       "  </thead>\n",
       "  <tbody>\n",
       "    <tr>\n",
       "      <th>0</th>\n",
       "      <td>24.90</td>\n",
       "      <td>[{u'prod': {u'xProd': u'AGUA', u'vProd': 3.5, ...</td>\n",
       "      <td>01.234.567/0001-89</td>\n",
       "      <td>1-650-933-4902</td>\n",
       "      <td>CA</td>\n",
       "      <td></td>\n",
       "      <td>650 Castro St. unit 210</td>\n",
       "      <td>Mountain View</td>\n",
       "      <td>United States</td>\n",
       "      <td>TOTVS Labs</td>\n",
       "      <td>...</td>\n",
       "      <td>0.0</td>\n",
       "      <td>0.0</td>\n",
       "      <td>0.0</td>\n",
       "      <td>0.0</td>\n",
       "      <td>0.0</td>\n",
       "      <td>24.90</td>\n",
       "      <td>0.0</td>\n",
       "      <td>0.0</td>\n",
       "      <td>1.0</td>\n",
       "      <td>NaN</td>\n",
       "    </tr>\n",
       "    <tr>\n",
       "      <th>1</th>\n",
       "      <td>92.53</td>\n",
       "      <td>[{u'prod': {u'xProd': u'BUFFET', u'vProd': 83....</td>\n",
       "      <td>01.234.567/0001-89</td>\n",
       "      <td>1-650-933-4902</td>\n",
       "      <td>CA</td>\n",
       "      <td></td>\n",
       "      <td>650 Castro St. unit 210</td>\n",
       "      <td>Mountain View</td>\n",
       "      <td>United States</td>\n",
       "      <td>TOTVS Labs</td>\n",
       "      <td>...</td>\n",
       "      <td>0.0</td>\n",
       "      <td>0.0</td>\n",
       "      <td>0.0</td>\n",
       "      <td>0.0</td>\n",
       "      <td>0.0</td>\n",
       "      <td>92.55</td>\n",
       "      <td>0.0</td>\n",
       "      <td>0.0</td>\n",
       "      <td>1.0</td>\n",
       "      <td>NaN</td>\n",
       "    </tr>\n",
       "  </tbody>\n",
       "</table>\n",
       "<p>2 rows × 32 columns</p>\n",
       "</div>"
      ],
      "text/plain": [
       "   complemento.valorTotal                                               dets  \\\n",
       "0                   24.90  [{u'prod': {u'xProd': u'AGUA', u'vProd': 3.5, ...   \n",
       "1                   92.53  [{u'prod': {u'xProd': u'BUFFET', u'vProd': 83....   \n",
       "\n",
       "            emit.cnpj emit.enderEmit.fone emit.enderEmit.uf  \\\n",
       "0  01.234.567/0001-89      1-650-933-4902                CA   \n",
       "1  01.234.567/0001-89      1-650-933-4902                CA   \n",
       "\n",
       "  emit.enderEmit.xBairro      emit.enderEmit.xLgr emit.enderEmit.xMun  \\\n",
       "0                         650 Castro St. unit 210       Mountain View   \n",
       "1                         650 Castro St. unit 210       Mountain View   \n",
       "\n",
       "  emit.enderEmit.xPais  emit.xFant             ...               \\\n",
       "0        United States  TOTVS Labs             ...                \n",
       "1        United States  TOTVS Labs             ...                \n",
       "\n",
       "   total.icmsTot.vcofins total.icmsTot.vicms total.icmsTot.vicmsDeson  \\\n",
       "0                    0.0                 0.0                      0.0   \n",
       "1                    0.0                 0.0                      0.0   \n",
       "\n",
       "  total.icmsTot.vii  total.icmsTot.vipi  total.icmsTot.vnf  \\\n",
       "0               0.0                 0.0              24.90   \n",
       "1               0.0                 0.0              92.55   \n",
       "\n",
       "   total.icmsTot.vpis  total.icmsTot.vst  versaoDocumento  \\\n",
       "0                 0.0                0.0              1.0   \n",
       "1                 0.0                0.0              1.0   \n",
       "\n",
       "   versaoDocumento.$numberLong  \n",
       "0                          NaN  \n",
       "1                          NaN  \n",
       "\n",
       "[2 rows x 32 columns]"
      ]
     },
     "execution_count": 6,
     "metadata": {},
     "output_type": "execute_result"
    }
   ],
   "source": [
    "# trasnform to dataframe\n",
    "data_transactions = pd.io.json.json_normalize(data_dict)\n",
    "\n",
    "data_transactions.head(2)"
   ]
  },
  {
   "cell_type": "markdown",
   "metadata": {},
   "source": [
    "As we can see the column 'dets' did manage to normalize cause it can have more than one item. \n",
    "__We will pop this column out of this data_transactions.__"
   ]
  },
  {
   "cell_type": "code",
   "execution_count": 7,
   "metadata": {
    "collapsed": false
   },
   "outputs": [],
   "source": [
    "_ = data_transactions.pop(u'dets')"
   ]
  },
  {
   "cell_type": "markdown",
   "metadata": {},
   "source": [
    "__And expand the data dictionary over each det__"
   ]
  },
  {
   "cell_type": "code",
   "execution_count": 8,
   "metadata": {
    "collapsed": false
   },
   "outputs": [
    {
     "name": "stdout",
     "output_type": "stream",
     "text": [
      "{\n",
      "  \"complemento\": {\n",
      "    \"valorTotal\": 24.9\n",
      "  }, \n",
      "  \"det\": {\n",
      "    \"nItem\": \"1\", \n",
      "    \"prod.indTot\": \"1\", \n",
      "    \"prod.qCom\": 1.0, \n",
      "    \"prod.uCom\": \"UN\", \n",
      "    \"prod.vProd\": 3.5, \n",
      "    \"prod.vUnCom\": 3.5, \n",
      "    \"prod.xProd\": \"AGUA\"\n",
      "  }, \n",
      "  \"emit\": {\n",
      "    \"cnpj\": \"01.234.567/0001-89\", \n",
      "    \"enderEmit\": {\n",
      "      \"fone\": \"1-650-933-4902\", \n",
      "      \"uf\": \"CA\", \n",
      "      \"xBairro\": \"\", \n",
      "      \"xLgr\": \"650 Castro St. unit 210\", \n",
      "      \"xMun\": \"Mountain View\", \n",
      "      \"xPais\": \"United States\"\n",
      "    }, \n",
      "    \"xFant\": \"TOTVS Labs\"\n",
      "  }, \n",
      "  \"id\": 0, \n",
      "  \"ide\": {\n",
      "    \"dhEmi\": {\n",
      "      \"$date\": \"2016-01-05T12:01:54.000Z\"\n",
      "    }, \n",
      "    \"natOp\": \"VENDA\"\n",
      "  }, \n",
      "  \"infAdic\": {\n",
      "    \"infCpl\": \"Mesa 2\"\n",
      "  }, \n",
      "  \"num_items\": 2, \n",
      "  \"total\": {\n",
      "    \"icmsTot\": {\n",
      "      \"vDesc\": 0.0, \n",
      "      \"vFrete\": 0.0, \n",
      "      \"vOutro\": 0.0, \n",
      "      \"vProd\": 24.9, \n",
      "      \"vSeg\": 0.0, \n",
      "      \"vTotTrib\": 2.53, \n",
      "      \"vbc\": 0.0, \n",
      "      \"vbcst\": 0.0, \n",
      "      \"vcofins\": 0.0, \n",
      "      \"vicms\": 0.0, \n",
      "      \"vicmsDeson\": 0.0, \n",
      "      \"vii\": 0.0, \n",
      "      \"vipi\": 0.0, \n",
      "      \"vnf\": 24.9, \n",
      "      \"vpis\": 0.0, \n",
      "      \"vst\": 0.0\n",
      "    }\n",
      "  }, \n",
      "  \"versaoDocumento\": 1.0\n",
      "}\n"
     ]
    }
   ],
   "source": [
    "data_dict_expanded = []\n",
    "for transaction in data_dict:\n",
    "    for det in transaction['dets']:\n",
    "        # copy whole transaction\n",
    "        data_dict_expanded.append(transaction.copy())\n",
    "        # pop out the dets key and value\n",
    "        data_dict_expanded[-1].pop('dets', None)\n",
    "        # add the single det (flatten )\n",
    "        data_dict_expanded[-1]['det'] = flatten(det, '.')\n",
    "        # add a field with the total num of item of the order\n",
    "        data_dict_expanded[-1]['num_items'] = len(transaction['dets'])\n",
    "\n",
    "# print an example of the transctions expanded by each det\n",
    "print_pretty_json(data_dict_expanded[0])"
   ]
  },
  {
   "cell_type": "code",
   "execution_count": 9,
   "metadata": {
    "collapsed": false
   },
   "outputs": [
    {
     "data": {
      "text/html": [
       "<div>\n",
       "<style>\n",
       "    .dataframe thead tr:only-child th {\n",
       "        text-align: right;\n",
       "    }\n",
       "\n",
       "    .dataframe thead th {\n",
       "        text-align: left;\n",
       "    }\n",
       "\n",
       "    .dataframe tbody tr th {\n",
       "        vertical-align: top;\n",
       "    }\n",
       "</style>\n",
       "<table border=\"1\" class=\"dataframe\">\n",
       "  <thead>\n",
       "    <tr style=\"text-align: right;\">\n",
       "      <th></th>\n",
       "      <th>complemento.valorTotal</th>\n",
       "      <th>det.nItem</th>\n",
       "      <th>det.prod.indTot</th>\n",
       "      <th>det.prod.qCom</th>\n",
       "      <th>det.prod.uCom</th>\n",
       "      <th>det.prod.vProd</th>\n",
       "      <th>det.prod.vUnCom</th>\n",
       "      <th>det.prod.xProd</th>\n",
       "      <th>emit.cnpj</th>\n",
       "      <th>emit.enderEmit.fone</th>\n",
       "      <th>...</th>\n",
       "      <th>total.icmsTot.vcofins</th>\n",
       "      <th>total.icmsTot.vicms</th>\n",
       "      <th>total.icmsTot.vicmsDeson</th>\n",
       "      <th>total.icmsTot.vii</th>\n",
       "      <th>total.icmsTot.vipi</th>\n",
       "      <th>total.icmsTot.vnf</th>\n",
       "      <th>total.icmsTot.vpis</th>\n",
       "      <th>total.icmsTot.vst</th>\n",
       "      <th>versaoDocumento</th>\n",
       "      <th>versaoDocumento.$numberLong</th>\n",
       "    </tr>\n",
       "  </thead>\n",
       "  <tbody>\n",
       "    <tr>\n",
       "      <th>0</th>\n",
       "      <td>24.9</td>\n",
       "      <td>1</td>\n",
       "      <td>1</td>\n",
       "      <td>1.000</td>\n",
       "      <td>UN</td>\n",
       "      <td>3.5</td>\n",
       "      <td>3.5</td>\n",
       "      <td>AGUA</td>\n",
       "      <td>01.234.567/0001-89</td>\n",
       "      <td>1-650-933-4902</td>\n",
       "      <td>...</td>\n",
       "      <td>0.0</td>\n",
       "      <td>0.0</td>\n",
       "      <td>0.0</td>\n",
       "      <td>0.0</td>\n",
       "      <td>0.0</td>\n",
       "      <td>24.9</td>\n",
       "      <td>0.0</td>\n",
       "      <td>0.0</td>\n",
       "      <td>1.0</td>\n",
       "      <td>NaN</td>\n",
       "    </tr>\n",
       "    <tr>\n",
       "      <th>1</th>\n",
       "      <td>24.9</td>\n",
       "      <td>2</td>\n",
       "      <td>1</td>\n",
       "      <td>0.312</td>\n",
       "      <td>KG</td>\n",
       "      <td>21.4</td>\n",
       "      <td>68.6</td>\n",
       "      <td>BUFFET</td>\n",
       "      <td>01.234.567/0001-89</td>\n",
       "      <td>1-650-933-4902</td>\n",
       "      <td>...</td>\n",
       "      <td>0.0</td>\n",
       "      <td>0.0</td>\n",
       "      <td>0.0</td>\n",
       "      <td>0.0</td>\n",
       "      <td>0.0</td>\n",
       "      <td>24.9</td>\n",
       "      <td>0.0</td>\n",
       "      <td>0.0</td>\n",
       "      <td>1.0</td>\n",
       "      <td>NaN</td>\n",
       "    </tr>\n",
       "  </tbody>\n",
       "</table>\n",
       "<p>2 rows × 39 columns</p>\n",
       "</div>"
      ],
      "text/plain": [
       "   complemento.valorTotal det.nItem det.prod.indTot  det.prod.qCom  \\\n",
       "0                    24.9         1               1          1.000   \n",
       "1                    24.9         2               1          0.312   \n",
       "\n",
       "  det.prod.uCom  det.prod.vProd  det.prod.vUnCom det.prod.xProd  \\\n",
       "0            UN             3.5              3.5           AGUA   \n",
       "1            KG            21.4             68.6         BUFFET   \n",
       "\n",
       "            emit.cnpj emit.enderEmit.fone             ...              \\\n",
       "0  01.234.567/0001-89      1-650-933-4902             ...               \n",
       "1  01.234.567/0001-89      1-650-933-4902             ...               \n",
       "\n",
       "  total.icmsTot.vcofins total.icmsTot.vicms total.icmsTot.vicmsDeson  \\\n",
       "0                   0.0                 0.0                      0.0   \n",
       "1                   0.0                 0.0                      0.0   \n",
       "\n",
       "  total.icmsTot.vii total.icmsTot.vipi total.icmsTot.vnf  total.icmsTot.vpis  \\\n",
       "0               0.0                0.0              24.9                 0.0   \n",
       "1               0.0                0.0              24.9                 0.0   \n",
       "\n",
       "  total.icmsTot.vst versaoDocumento versaoDocumento.$numberLong  \n",
       "0               0.0             1.0                         NaN  \n",
       "1               0.0             1.0                         NaN  \n",
       "\n",
       "[2 rows x 39 columns]"
      ]
     },
     "execution_count": 9,
     "metadata": {},
     "output_type": "execute_result"
    }
   ],
   "source": [
    "# make it a data frame\n",
    "data_dets = pd.io.json.json_normalize(data_dict_expanded)\n",
    "# let's check the structure of the data now\n",
    "data_dets.head(2)"
   ]
  },
  {
   "cell_type": "markdown",
   "metadata": {},
   "source": [
    "## 1.2 Parsing the columns to numeric and getting rid of unuseful colums"
   ]
  },
  {
   "cell_type": "code",
   "execution_count": 10,
   "metadata": {
    "collapsed": false
   },
   "outputs": [
    {
     "name": "stdout",
     "output_type": "stream",
     "text": [
      "<class 'pandas.core.frame.DataFrame'>\n",
      "RangeIndex: 3547 entries, 0 to 3546\n",
      "Data columns (total 39 columns):\n",
      "complemento.valorTotal         3547 non-null float64\n",
      "det.nItem                      3547 non-null object\n",
      "det.prod.indTot                3547 non-null object\n",
      "det.prod.qCom                  3547 non-null float64\n",
      "det.prod.uCom                  3547 non-null object\n",
      "det.prod.vProd                 3547 non-null float64\n",
      "det.prod.vUnCom                3547 non-null float64\n",
      "det.prod.xProd                 3547 non-null object\n",
      "emit.cnpj                      3547 non-null object\n",
      "emit.enderEmit.fone            3547 non-null object\n",
      "emit.enderEmit.uf              3547 non-null object\n",
      "emit.enderEmit.xBairro         3547 non-null object\n",
      "emit.enderEmit.xLgr            3547 non-null object\n",
      "emit.enderEmit.xMun            3547 non-null object\n",
      "emit.enderEmit.xPais           3547 non-null object\n",
      "emit.xFant                     3547 non-null object\n",
      "id                             3547 non-null int64\n",
      "ide.dhEmi.$date                3547 non-null object\n",
      "ide.natOp                      3547 non-null object\n",
      "infAdic.infCpl                 3547 non-null object\n",
      "num_items                      3547 non-null int64\n",
      "total.icmsTot.vDesc            3547 non-null float64\n",
      "total.icmsTot.vFrete           3547 non-null float64\n",
      "total.icmsTot.vOutro           3547 non-null float64\n",
      "total.icmsTot.vProd            3547 non-null float64\n",
      "total.icmsTot.vSeg             3547 non-null float64\n",
      "total.icmsTot.vTotTrib         3547 non-null float64\n",
      "total.icmsTot.vbc              3547 non-null float64\n",
      "total.icmsTot.vbcst            3547 non-null float64\n",
      "total.icmsTot.vcofins          3547 non-null float64\n",
      "total.icmsTot.vicms            3547 non-null float64\n",
      "total.icmsTot.vicmsDeson       3547 non-null float64\n",
      "total.icmsTot.vii              3547 non-null float64\n",
      "total.icmsTot.vipi             3547 non-null float64\n",
      "total.icmsTot.vnf              3547 non-null float64\n",
      "total.icmsTot.vpis             3547 non-null float64\n",
      "total.icmsTot.vst              3547 non-null float64\n",
      "versaoDocumento                2553 non-null float64\n",
      "versaoDocumento.$numberLong    994 non-null object\n",
      "dtypes: float64(21), int64(2), object(16)\n",
      "memory usage: 1.1+ MB\n"
     ]
    }
   ],
   "source": [
    "# let's check the info of the data\n",
    "data_dets.info()"
   ]
  },
  {
   "cell_type": "markdown",
   "metadata": {},
   "source": [
    "Transforming columns that are parsed as objects but should be numerical like det.nItem, det.prod.indTot."
   ]
  },
  {
   "cell_type": "code",
   "execution_count": 11,
   "metadata": {
    "collapsed": false
   },
   "outputs": [],
   "source": [
    "# det.nItem to numeric\n",
    "data_dets['det.nItem'] = pd.to_numeric(data_dets['det.nItem'], errors='coerce')\n",
    "# det.prod.indTot to numeric\n",
    "data_dets['det.prod.indTot'] = pd.to_numeric(data_dets['det.prod.indTot'], errors='coerce')"
   ]
  },
  {
   "cell_type": "markdown",
   "metadata": {},
   "source": [
    "If we analyze the data from the location of the note, we'll realize __there is only one location__. Therefore is not relevant for our analysis."
   ]
  },
  {
   "cell_type": "code",
   "execution_count": 12,
   "metadata": {
    "collapsed": false
   },
   "outputs": [
    {
     "data": {
      "text/plain": [
       "count                        3547\n",
       "unique                          1\n",
       "top       650 Castro St. unit 210\n",
       "freq                         3547\n",
       "Name: emit.enderEmit.xLgr, dtype: object"
      ]
     },
     "execution_count": 12,
     "metadata": {},
     "output_type": "execute_result"
    }
   ],
   "source": [
    "data_dets['emit.enderEmit.xLgr'].describe()"
   ]
  },
  {
   "cell_type": "markdown",
   "metadata": {},
   "source": [
    "We will remove the location emit.* columns out of our data"
   ]
  },
  {
   "cell_type": "code",
   "execution_count": 13,
   "metadata": {
    "collapsed": false
   },
   "outputs": [],
   "source": [
    "data_dets = pop_columns_which_name_contains(data_dets, 'emit.')\n",
    "data_dets = pop_columns_which_name_contains(data_dets, 'total.')"
   ]
  },
  {
   "cell_type": "markdown",
   "metadata": {},
   "source": [
    "We will parse ide.dhEmi.$date columns from string to datetime and split it into day information and time of the day, cause this way we can analisys this values independantly"
   ]
  },
  {
   "cell_type": "code",
   "execution_count": 14,
   "metadata": {
    "collapsed": false
   },
   "outputs": [
    {
     "data": {
      "text/html": [
       "<div>\n",
       "<style>\n",
       "    .dataframe thead tr:only-child th {\n",
       "        text-align: right;\n",
       "    }\n",
       "\n",
       "    .dataframe thead th {\n",
       "        text-align: left;\n",
       "    }\n",
       "\n",
       "    .dataframe tbody tr th {\n",
       "        vertical-align: top;\n",
       "    }\n",
       "</style>\n",
       "<table border=\"1\" class=\"dataframe\">\n",
       "  <thead>\n",
       "    <tr style=\"text-align: right;\">\n",
       "      <th></th>\n",
       "      <th>ide.dhEmi.$date.day</th>\n",
       "      <th>ide.dhEmi.$date.time</th>\n",
       "    </tr>\n",
       "  </thead>\n",
       "  <tbody>\n",
       "    <tr>\n",
       "      <th>0</th>\n",
       "      <td>5848</td>\n",
       "      <td>12</td>\n",
       "    </tr>\n",
       "    <tr>\n",
       "      <th>1</th>\n",
       "      <td>5848</td>\n",
       "      <td>12</td>\n",
       "    </tr>\n",
       "  </tbody>\n",
       "</table>\n",
       "</div>"
      ],
      "text/plain": [
       "   ide.dhEmi.$date.day  ide.dhEmi.$date.time\n",
       "0                 5848                    12\n",
       "1                 5848                    12"
      ]
     },
     "execution_count": 14,
     "metadata": {},
     "output_type": "execute_result"
    }
   ],
   "source": [
    "# parsing ide.dhEmi.$date to datetime\n",
    "data_dets['ide.dhEmi.$date'] = pd.to_datetime(data_dets['ide.dhEmi.$date'])\n",
    "\n",
    "# add day column\n",
    "data_dets['ide.dhEmi.$date.day'] = data_dets['ide.dhEmi.$date'].dt.date\n",
    "data_dets['ide.dhEmi.$date.time'] = data_dets['ide.dhEmi.$date'].dt.time\n",
    "\n",
    "data_dets['ide.dhEmi.$date.day'] = data_dets['ide.dhEmi.$date'].apply(lambda x: (x.date() - datetime.date(2000, 1, 1)).days)\n",
    "data_dets['ide.dhEmi.$date.time'] = data_dets['ide.dhEmi.$date.time'].apply(lambda x: x.hour)\n",
    "# pop out 'ide.dhEmi.$date'\n",
    "_ = data_dets.pop('ide.dhEmi.$date')\n",
    "\n",
    "# show some rows as example \n",
    "data_dets.loc[:,['ide.dhEmi.$date.day','ide.dhEmi.$date.time']].head(2)"
   ]
  },
  {
   "cell_type": "markdown",
   "metadata": {},
   "source": [
    "Checking which columns contain Nan"
   ]
  },
  {
   "cell_type": "code",
   "execution_count": 15,
   "metadata": {
    "collapsed": false
   },
   "outputs": [
    {
     "data": {
      "text/plain": [
       "complemento.valorTotal         False\n",
       "det.nItem                      False\n",
       "det.prod.indTot                False\n",
       "det.prod.qCom                  False\n",
       "det.prod.uCom                  False\n",
       "det.prod.vProd                 False\n",
       "det.prod.vUnCom                False\n",
       "det.prod.xProd                 False\n",
       "id                             False\n",
       "ide.natOp                      False\n",
       "infAdic.infCpl                 False\n",
       "num_items                      False\n",
       "versaoDocumento                 True\n",
       "versaoDocumento.$numberLong     True\n",
       "ide.dhEmi.$date.day            False\n",
       "ide.dhEmi.$date.time           False\n",
       "dtype: bool"
      ]
     },
     "execution_count": 15,
     "metadata": {},
     "output_type": "execute_result"
    }
   ],
   "source": [
    "# check for each columns if it has more than one null value\n",
    "pd.isnull(data_dets).sum() > 0"
   ]
  },
  {
   "cell_type": "markdown",
   "metadata": {},
   "source": [
    "We can see that versaoDocumento, versaoDocumento.$numberLong both contain Nan. Let's analyze them, stating by versaoDocumento. "
   ]
  },
  {
   "cell_type": "code",
   "execution_count": 16,
   "metadata": {
    "collapsed": false
   },
   "outputs": [
    {
     "data": {
      "text/plain": [
       "1.0    2553\n",
       "Name: versaoDocumento, dtype: int64"
      ]
     },
     "execution_count": 16,
     "metadata": {},
     "output_type": "execute_result"
    }
   ],
   "source": [
    "data_dets['versaoDocumento'].value_counts()"
   ]
  },
  {
   "cell_type": "markdown",
   "metadata": {},
   "source": [
    "We can see that versaoDocumento only contains the value 1.0 and Nan. We can replace Nan for 0"
   ]
  },
  {
   "cell_type": "code",
   "execution_count": 17,
   "metadata": {
    "collapsed": false
   },
   "outputs": [
    {
     "data": {
      "text/plain": [
       "1.0    2553\n",
       "0.0     994\n",
       "Name: versaoDocumento, dtype: int64"
      ]
     },
     "execution_count": 17,
     "metadata": {},
     "output_type": "execute_result"
    }
   ],
   "source": [
    "data_dets['versaoDocumento'] = data_dets['versaoDocumento'].fillna(0)\n",
    "data_dets['versaoDocumento'].value_counts()"
   ]
  },
  {
   "cell_type": "markdown",
   "metadata": {},
   "source": [
    "Now, let's do the same for versaoDocumento.$numberLong"
   ]
  },
  {
   "cell_type": "code",
   "execution_count": 18,
   "metadata": {
    "collapsed": false
   },
   "outputs": [
    {
     "data": {
      "text/plain": [
       "1    994\n",
       "Name: versaoDocumento.$numberLong, dtype: int64"
      ]
     },
     "execution_count": 18,
     "metadata": {},
     "output_type": "execute_result"
    }
   ],
   "source": [
    "data_dets['versaoDocumento.$numberLong'].value_counts()"
   ]
  },
  {
   "cell_type": "code",
   "execution_count": 19,
   "metadata": {
    "collapsed": false
   },
   "outputs": [
    {
     "data": {
      "text/plain": [
       "0    2553\n",
       "1     994\n",
       "Name: versaoDocumento.$numberLong, dtype: int64"
      ]
     },
     "execution_count": 19,
     "metadata": {},
     "output_type": "execute_result"
    }
   ],
   "source": [
    "data_dets['versaoDocumento.$numberLong'] = data_dets['versaoDocumento.$numberLong'].fillna(0)\n",
    "data_dets['versaoDocumento.$numberLong'].value_counts()"
   ]
  },
  {
   "cell_type": "markdown",
   "metadata": {},
   "source": [
    "They seem to contain the same info versaoDocumento, versaoDocumento that is missing in the other one. This is cause by a variation in the structure of the json file. In any case it only contains the value 1.0. So, it is not valuebale data for the analysis so will pop them out. "
   ]
  },
  {
   "cell_type": "code",
   "execution_count": 20,
   "metadata": {
    "collapsed": false
   },
   "outputs": [],
   "source": [
    "data_dets = pop_columns_which_name_contains(data_dets, 'versaoDocumento.')"
   ]
  },
  {
   "cell_type": "markdown",
   "metadata": {},
   "source": [
    "Lets analyse the case of ide.natOp"
   ]
  },
  {
   "cell_type": "code",
   "execution_count": 21,
   "metadata": {
    "collapsed": false
   },
   "outputs": [
    {
     "data": {
      "text/plain": [
       "VENDA    3547\n",
       "Name: ide.natOp, dtype: int64"
      ]
     },
     "execution_count": 21,
     "metadata": {},
     "output_type": "execute_result"
    }
   ],
   "source": [
    "data_dets['ide.natOp'].value_counts()"
   ]
  },
  {
   "cell_type": "markdown",
   "metadata": {},
   "source": [
    "Because there is only one value, we can pop this column too."
   ]
  },
  {
   "cell_type": "code",
   "execution_count": 22,
   "metadata": {
    "collapsed": true
   },
   "outputs": [],
   "source": [
    "_ = data_dets.pop('ide.natOp')"
   ]
  },
  {
   "cell_type": "markdown",
   "metadata": {},
   "source": [
    "Handeling categorical columns like det.prod.uCom, det.prod.xProd. We will add an encoded column for each one"
   ]
  },
  {
   "cell_type": "code",
   "execution_count": 23,
   "metadata": {
    "collapsed": false
   },
   "outputs": [
    {
     "data": {
      "text/html": [
       "<div>\n",
       "<style>\n",
       "    .dataframe thead tr:only-child th {\n",
       "        text-align: right;\n",
       "    }\n",
       "\n",
       "    .dataframe thead th {\n",
       "        text-align: left;\n",
       "    }\n",
       "\n",
       "    .dataframe tbody tr th {\n",
       "        vertical-align: top;\n",
       "    }\n",
       "</style>\n",
       "<table border=\"1\" class=\"dataframe\">\n",
       "  <thead>\n",
       "    <tr style=\"text-align: right;\">\n",
       "      <th></th>\n",
       "      <th>det.prod.uCom</th>\n",
       "      <th>det.prod.uCom_encoded</th>\n",
       "      <th>det.prod.xProd</th>\n",
       "      <th>det.prod.xProd_encoded</th>\n",
       "      <th>infAdic.infCpl</th>\n",
       "      <th>infAdic.infCpl_encoded</th>\n",
       "    </tr>\n",
       "  </thead>\n",
       "  <tbody>\n",
       "    <tr>\n",
       "      <th>0</th>\n",
       "      <td>UN</td>\n",
       "      <td>1</td>\n",
       "      <td>AGUA</td>\n",
       "      <td>0</td>\n",
       "      <td>Mesa 2</td>\n",
       "      <td>10</td>\n",
       "    </tr>\n",
       "    <tr>\n",
       "      <th>1</th>\n",
       "      <td>KG</td>\n",
       "      <td>0</td>\n",
       "      <td>BUFFET</td>\n",
       "      <td>2</td>\n",
       "      <td>Mesa 2</td>\n",
       "      <td>10</td>\n",
       "    </tr>\n",
       "    <tr>\n",
       "      <th>2</th>\n",
       "      <td>KG</td>\n",
       "      <td>0</td>\n",
       "      <td>BUFFET</td>\n",
       "      <td>2</td>\n",
       "      <td>Mesa 1</td>\n",
       "      <td>0</td>\n",
       "    </tr>\n",
       "    <tr>\n",
       "      <th>3</th>\n",
       "      <td>UN</td>\n",
       "      <td>1</td>\n",
       "      <td>REFRIGERANTE</td>\n",
       "      <td>13</td>\n",
       "      <td>Mesa 1</td>\n",
       "      <td>0</td>\n",
       "    </tr>\n",
       "  </tbody>\n",
       "</table>\n",
       "</div>"
      ],
      "text/plain": [
       "  det.prod.uCom  det.prod.uCom_encoded det.prod.xProd  det.prod.xProd_encoded  \\\n",
       "0            UN                      1           AGUA                       0   \n",
       "1            KG                      0         BUFFET                       2   \n",
       "2            KG                      0         BUFFET                       2   \n",
       "3            UN                      1   REFRIGERANTE                      13   \n",
       "\n",
       "  infAdic.infCpl  infAdic.infCpl_encoded  \n",
       "0         Mesa 2                      10  \n",
       "1         Mesa 2                      10  \n",
       "2         Mesa 1                       0  \n",
       "3         Mesa 1                       0  "
      ]
     },
     "execution_count": 23,
     "metadata": {},
     "output_type": "execute_result"
    }
   ],
   "source": [
    "from sklearn.preprocessing import LabelEncoder\n",
    "\n",
    "# create label encoders\n",
    "det_prod_uCom_encoder = LabelEncoder()\n",
    "det_prod_xProd_encoder = LabelEncoder()\n",
    "infAdic_infCpl_encoder = LabelEncoder()\n",
    "\n",
    "# create encoded columns\n",
    "data_dets['det.prod.uCom_encoded'] = det_prod_uCom_encoder.fit_transform(data_dets['det.prod.uCom'])\n",
    "data_dets['det.prod.xProd_encoded'] = det_prod_xProd_encoder.fit_transform(data_dets['det.prod.xProd'])\n",
    "data_dets['infAdic.infCpl_encoded'] = infAdic_infCpl_encoder.fit_transform(data_dets['infAdic.infCpl'])\n",
    "\n",
    "# check some examples\n",
    "data_dets.loc[:3,['det.prod.uCom','det.prod.uCom_encoded','det.prod.xProd','det.prod.xProd_encoded', 'infAdic.infCpl', 'infAdic.infCpl_encoded']]"
   ]
  },
  {
   "cell_type": "markdown",
   "metadata": {},
   "source": [
    "Pop out this categorical value (just keep the numerical values) "
   ]
  },
  {
   "cell_type": "code",
   "execution_count": 24,
   "metadata": {
    "collapsed": true
   },
   "outputs": [],
   "source": [
    "_ = data_dets.pop('det.prod.uCom')\n",
    "_ = data_dets.pop('det.prod.xProd')\n",
    "_ = data_dets.pop('infAdic.infCpl')\n",
    "_ = data_dets.pop('id')\n",
    "_ = data_dets.pop('num_items')\n",
    "_ = data_dets.pop('det.nItem')"
   ]
  },
  {
   "cell_type": "code",
   "execution_count": 25,
   "metadata": {
    "collapsed": false
   },
   "outputs": [
    {
     "name": "stdout",
     "output_type": "stream",
     "text": [
      "<class 'pandas.core.frame.DataFrame'>\n",
      "RangeIndex: 3547 entries, 0 to 3546\n",
      "Data columns (total 11 columns):\n",
      "complemento.valorTotal    3547 non-null float64\n",
      "det.prod.indTot           3547 non-null int64\n",
      "det.prod.qCom             3547 non-null float64\n",
      "det.prod.vProd            3547 non-null float64\n",
      "det.prod.vUnCom           3547 non-null float64\n",
      "versaoDocumento           3547 non-null float64\n",
      "ide.dhEmi.$date.day       3547 non-null int64\n",
      "ide.dhEmi.$date.time      3547 non-null int64\n",
      "det.prod.uCom_encoded     3547 non-null int64\n",
      "det.prod.xProd_encoded    3547 non-null int64\n",
      "infAdic.infCpl_encoded    3547 non-null int64\n",
      "dtypes: float64(5), int64(6)\n",
      "memory usage: 304.9 KB\n",
      "None\n"
     ]
    }
   ],
   "source": [
    "print data_dets.info()"
   ]
  },
  {
   "cell_type": "code",
   "execution_count": 26,
   "metadata": {
    "collapsed": false
   },
   "outputs": [
    {
     "data": {
      "text/html": [
       "<div>\n",
       "<style>\n",
       "    .dataframe thead tr:only-child th {\n",
       "        text-align: right;\n",
       "    }\n",
       "\n",
       "    .dataframe thead th {\n",
       "        text-align: left;\n",
       "    }\n",
       "\n",
       "    .dataframe tbody tr th {\n",
       "        vertical-align: top;\n",
       "    }\n",
       "</style>\n",
       "<table border=\"1\" class=\"dataframe\">\n",
       "  <thead>\n",
       "    <tr style=\"text-align: right;\">\n",
       "      <th></th>\n",
       "      <th>complemento.valorTotal</th>\n",
       "      <th>det.prod.indTot</th>\n",
       "      <th>det.prod.qCom</th>\n",
       "      <th>det.prod.vProd</th>\n",
       "      <th>det.prod.vUnCom</th>\n",
       "      <th>versaoDocumento</th>\n",
       "      <th>ide.dhEmi.$date.day</th>\n",
       "      <th>ide.dhEmi.$date.time</th>\n",
       "      <th>det.prod.uCom_encoded</th>\n",
       "      <th>det.prod.xProd_encoded</th>\n",
       "      <th>infAdic.infCpl_encoded</th>\n",
       "    </tr>\n",
       "  </thead>\n",
       "  <tbody>\n",
       "    <tr>\n",
       "      <th>0</th>\n",
       "      <td>24.90</td>\n",
       "      <td>1</td>\n",
       "      <td>1.000</td>\n",
       "      <td>3.50</td>\n",
       "      <td>3.5</td>\n",
       "      <td>1.0</td>\n",
       "      <td>5848</td>\n",
       "      <td>12</td>\n",
       "      <td>1</td>\n",
       "      <td>0</td>\n",
       "      <td>10</td>\n",
       "    </tr>\n",
       "    <tr>\n",
       "      <th>1</th>\n",
       "      <td>24.90</td>\n",
       "      <td>1</td>\n",
       "      <td>0.312</td>\n",
       "      <td>21.40</td>\n",
       "      <td>68.6</td>\n",
       "      <td>1.0</td>\n",
       "      <td>5848</td>\n",
       "      <td>12</td>\n",
       "      <td>0</td>\n",
       "      <td>2</td>\n",
       "      <td>10</td>\n",
       "    </tr>\n",
       "    <tr>\n",
       "      <th>2</th>\n",
       "      <td>92.53</td>\n",
       "      <td>1</td>\n",
       "      <td>1.218</td>\n",
       "      <td>83.55</td>\n",
       "      <td>68.6</td>\n",
       "      <td>1.0</td>\n",
       "      <td>5848</td>\n",
       "      <td>12</td>\n",
       "      <td>0</td>\n",
       "      <td>2</td>\n",
       "      <td>0</td>\n",
       "    </tr>\n",
       "    <tr>\n",
       "      <th>3</th>\n",
       "      <td>92.53</td>\n",
       "      <td>1</td>\n",
       "      <td>2.000</td>\n",
       "      <td>9.00</td>\n",
       "      <td>4.5</td>\n",
       "      <td>1.0</td>\n",
       "      <td>5848</td>\n",
       "      <td>12</td>\n",
       "      <td>1</td>\n",
       "      <td>13</td>\n",
       "      <td>0</td>\n",
       "    </tr>\n",
       "    <tr>\n",
       "      <th>4</th>\n",
       "      <td>57.86</td>\n",
       "      <td>1</td>\n",
       "      <td>1.000</td>\n",
       "      <td>4.50</td>\n",
       "      <td>4.5</td>\n",
       "      <td>1.0</td>\n",
       "      <td>5848</td>\n",
       "      <td>12</td>\n",
       "      <td>1</td>\n",
       "      <td>17</td>\n",
       "      <td>35</td>\n",
       "    </tr>\n",
       "  </tbody>\n",
       "</table>\n",
       "</div>"
      ],
      "text/plain": [
       "   complemento.valorTotal  det.prod.indTot  det.prod.qCom  det.prod.vProd  \\\n",
       "0                   24.90                1          1.000            3.50   \n",
       "1                   24.90                1          0.312           21.40   \n",
       "2                   92.53                1          1.218           83.55   \n",
       "3                   92.53                1          2.000            9.00   \n",
       "4                   57.86                1          1.000            4.50   \n",
       "\n",
       "   det.prod.vUnCom  versaoDocumento  ide.dhEmi.$date.day  \\\n",
       "0              3.5              1.0                 5848   \n",
       "1             68.6              1.0                 5848   \n",
       "2             68.6              1.0                 5848   \n",
       "3              4.5              1.0                 5848   \n",
       "4              4.5              1.0                 5848   \n",
       "\n",
       "   ide.dhEmi.$date.time  det.prod.uCom_encoded  det.prod.xProd_encoded  \\\n",
       "0                    12                      1                       0   \n",
       "1                    12                      0                       2   \n",
       "2                    12                      0                       2   \n",
       "3                    12                      1                      13   \n",
       "4                    12                      1                      17   \n",
       "\n",
       "   infAdic.infCpl_encoded  \n",
       "0                      10  \n",
       "1                      10  \n",
       "2                       0  \n",
       "3                       0  \n",
       "4                      35  "
      ]
     },
     "execution_count": 26,
     "metadata": {},
     "output_type": "execute_result"
    }
   ],
   "source": [
    "data_dets.head()"
   ]
  },
  {
   "cell_type": "markdown",
   "metadata": {},
   "source": [
    "# 2. Analize features that influence the value"
   ]
  },
  {
   "cell_type": "code",
   "execution_count": 27,
   "metadata": {
    "collapsed": false
   },
   "outputs": [],
   "source": [
    "y = data_dets.pop('complemento.valorTotal')"
   ]
  },
  {
   "cell_type": "code",
   "execution_count": 28,
   "metadata": {
    "collapsed": false
   },
   "outputs": [
    {
     "name": "stdout",
     "output_type": "stream",
     "text": [
      "labels: [ 24.9   24.9   92.53 ... 102.09  32.8   32.8 ]\n"
     ]
    },
    {
     "data": {
      "text/plain": [
       "array([1.000e+00, 1.000e+00, 3.500e+00, 3.500e+00, 1.000e+00, 5.848e+03,\n",
       "       1.200e+01, 1.000e+00, 0.000e+00, 1.000e+01])"
      ]
     },
     "execution_count": 28,
     "metadata": {},
     "output_type": "execute_result"
    }
   ],
   "source": [
    "X = data_dets.values\n",
    "print 'labels:',y.values\n",
    "X[0]"
   ]
  },
  {
   "cell_type": "code",
   "execution_count": 29,
   "metadata": {
    "collapsed": false
   },
   "outputs": [
    {
     "data": {
      "text/plain": [
       "RandomForestRegressor(bootstrap=True, criterion='mse', max_depth=2,\n",
       "           max_features='auto', max_leaf_nodes=None,\n",
       "           min_impurity_decrease=0.0, min_impurity_split=None,\n",
       "           min_samples_leaf=1, min_samples_split=2,\n",
       "           min_weight_fraction_leaf=0.0, n_estimators=2000, n_jobs=1,\n",
       "           oob_score=False, random_state=0, verbose=0, warm_start=False)"
      ]
     },
     "execution_count": 29,
     "metadata": {},
     "output_type": "execute_result"
    }
   ],
   "source": [
    "from sklearn.ensemble import RandomForestRegressor\n",
    "import numpy as np\n",
    "\n",
    "regr = RandomForestRegressor(n_estimators=2000, max_depth=2, random_state=0)\n",
    "regr.fit(X, y)"
   ]
  },
  {
   "cell_type": "code",
   "execution_count": 30,
   "metadata": {
    "collapsed": false
   },
   "outputs": [
    {
     "name": "stdout",
     "output_type": "stream",
     "text": [
      "Feature ranking:\n",
      "feature 1: det.prod.qCom has importance=0.758239\n",
      "feature 6: ide.dhEmi.$date.time has importance=0.218282\n",
      "feature 2: det.prod.vProd has importance=0.022267\n",
      "feature 8: det.prod.xProd_encoded has importance=0.001212\n",
      "feature 9: infAdic.infCpl_encoded has importance=0.000000\n",
      "feature 7: det.prod.uCom_encoded has importance=0.000000\n",
      "feature 5: ide.dhEmi.$date.day has importance=0.000000\n",
      "feature 4: versaoDocumento has importance=0.000000\n",
      "feature 3: det.prod.vUnCom has importance=0.000000\n",
      "feature 0: det.prod.indTot has importance=0.000000\n"
     ]
    }
   ],
   "source": [
    "importances = regr.feature_importances_\n",
    "std = np.std([tree.feature_importances_ for tree in regr.estimators_],axis=0)\n",
    "\n",
    "indices = np.argsort(importances)[::-1]\n",
    "\n",
    "# Print the feature ranking\n",
    "print(\"Feature ranking:\")\n",
    "\n",
    "for f in range(X.shape[1]):\n",
    "    print(\"feature %d: %s has importance=%f\" % (indices[f], data_dets.columns[indices[f]], importances[indices[f]]))"
   ]
  },
  {
   "cell_type": "code",
   "execution_count": 31,
   "metadata": {
    "collapsed": false
   },
   "outputs": [
    {
     "data": {
      "image/png": "[encoded data removed]",
      "text/plain": [
       "<matplotlib.figure.Figure at 0x112373610>"
      ]
     },
     "metadata": {},
     "output_type": "display_data"
    }
   ],
   "source": [
    "%matplotlib inline\n",
    "import matplotlib.pyplot as plt\n",
    "\n",
    "# Plot the feature importances of the forest\n",
    "plt.figure()\n",
    "plt.title(\"Feature importances\")\n",
    "plt.bar(range(X.shape[1]), importances[indices], color=\"r\", yerr=std[indices], align=\"center\")\n",
    "plt.xticks(range(X.shape[1]), indices)\n",
    "plt.xlim([-1, X.shape[1]])\n",
    "plt.show()"
   ]
  },
  {
   "cell_type": "markdown",
   "metadata": {},
   "source": [
    "## 3. Forcasting the revenue of the next week"
   ]
  },
  {
   "cell_type": "markdown",
   "metadata": {},
   "source": [
    "We will use [Prophet](https://facebook.github.io/prophet/) library from facebook. Tha is a great tool for time series forcasting. It is based on an additive model where non-linear trends are fit with seasonalities. "
   ]
  },
  {
   "cell_type": "code",
   "execution_count": 32,
   "metadata": {
    "collapsed": true
   },
   "outputs": [],
   "source": [
    "# We will use Prophet library from facebook. Tha is a great tool for time series forcasting\n",
    "from fbprophet import Prophet"
   ]
  },
  {
   "cell_type": "markdown",
   "metadata": {},
   "source": [
    "We will create a new dataframe __df__ that only containes the date of the transcation and the value of it."
   ]
  },
  {
   "cell_type": "code",
   "execution_count": 33,
   "metadata": {
    "collapsed": false
   },
   "outputs": [
    {
     "name": "stdout",
     "output_type": "stream",
     "text": [
      "            ide.dhEmi.$date  complemento.valorTotal\n",
      "0  2016-01-05T12:01:54.000Z                   24.90\n",
      "1  2016-01-05T12:03:52.000Z                   92.53\n",
      "2  2016-01-05T12:16:40.000Z                   57.86\n",
      "3  2016-01-05T12:17:50.000Z                   34.97\n",
      "4  2016-01-05T12:18:35.000Z                   46.23\n"
     ]
    }
   ],
   "source": [
    "# define a new dataframe that only containes the date of the transcation and the value\n",
    "df = data_transactions.loc[:, ['ide.dhEmi.$date', 'complemento.valorTotal']]\n",
    "print df.head()"
   ]
  },
  {
   "cell_type": "markdown",
   "metadata": {},
   "source": [
    "We will reduce the datetime to the hour value."
   ]
  },
  {
   "cell_type": "code",
   "execution_count": 34,
   "metadata": {
    "collapsed": false
   },
   "outputs": [
    {
     "name": "stdout",
     "output_type": "stream",
     "text": [
      "      ide.dhEmi.$date  complemento.valorTotal\n",
      "0 2016-01-05 12:00:00                   24.90\n",
      "1 2016-01-05 12:00:00                   92.53\n",
      "2 2016-01-05 12:00:00                   57.86\n",
      "3 2016-01-05 12:00:00                   34.97\n",
      "4 2016-01-05 12:00:00                   46.23\n"
     ]
    }
   ],
   "source": [
    "# turn date as string into timestamp\n",
    "df['ide.dhEmi.$date'] = pd.to_datetime(df['ide.dhEmi.$date'])\n",
    "# reduce timestamps to the hour value\n",
    "df['ide.dhEmi.$date'] = df['ide.dhEmi.$date'].apply( lambda t : datetime.datetime(year=t.year, month=t.month, day=t.day, hour=t.hour))\n",
    "print df.head()"
   ]
  },
  {
   "cell_type": "markdown",
   "metadata": {},
   "source": [
    "We will group and sum all the transaction for the same datetime (at hour level)."
   ]
  },
  {
   "cell_type": "code",
   "execution_count": 35,
   "metadata": {
    "collapsed": false
   },
   "outputs": [
    {
     "name": "stdout",
     "output_type": "stream",
     "text": [
      "      ide.dhEmi.$date  complemento.valorTotal\n",
      "0 2016-01-05 12:00:00                 1129.37\n",
      "1 2016-01-05 13:00:00                 1452.09\n",
      "2 2016-01-05 14:00:00                  236.43\n",
      "3 2016-01-05 18:00:00                  105.63\n",
      "4 2016-01-05 19:00:00                  295.85\n"
     ]
    }
   ],
   "source": [
    "df = df.groupby(['ide.dhEmi.$date'], as_index=False).sum()\n",
    "print df.head()"
   ]
  },
  {
   "cell_type": "markdown",
   "metadata": {},
   "source": [
    "And rename the columns to macth Prophet's requirement: The input to Prophet is always a dataframe with two columns: ds and y. The ds (datestamp) column must contain a date or datetime (either is fine). The y column must be numeric, and represents the measurement we wish to forecast."
   ]
  },
  {
   "cell_type": "code",
   "execution_count": 36,
   "metadata": {
    "collapsed": false
   },
   "outputs": [
    {
     "name": "stdout",
     "output_type": "stream",
     "text": [
      "                           y\n",
      "ds                          \n",
      "2016-01-23 10:00:00     0.00\n",
      "2016-01-23 11:00:00   140.89\n",
      "2016-01-23 12:00:00   955.46\n",
      "2016-01-23 13:00:00  1651.95\n",
      "2016-01-23 14:00:00  1205.21\n"
     ]
    }
   ],
   "source": [
    "# rename and set ds as index\n",
    "df = df.rename(columns={'ide.dhEmi.$date':'ds','complemento.valorTotal': 'y'})\n",
    "df = df.set_index('ds')\n",
    "\n",
    "# add the missing values with a zero value\n",
    "df = df.resample('1H').sum()\n",
    "df['y'] = df['y'].fillna(0)\n",
    "\n",
    "print df.tail()"
   ]
  },
  {
   "cell_type": "markdown",
   "metadata": {},
   "source": [
    "Let's plot it"
   ]
  },
  {
   "cell_type": "code",
   "execution_count": 37,
   "metadata": {
    "collapsed": false
   },
   "outputs": [
    {
     "data": {
      "text/plain": [
       "(array([735969., 735971., 735973., 735975., 735977., 735979., 735981.,\n",
       "        735983., 735985., 735987.]), <a list of 10 Text xticklabel objects>)"
      ]
     },
     "execution_count": 37,
     "metadata": {},
     "output_type": "execute_result"
    },
    {
     "data": {
      "image/png": "[encoded data removed]",
      "text/plain": [
       "<matplotlib.figure.Figure at 0x11553e910>"
      ]
     },
     "metadata": {},
     "output_type": "display_data"
    }
   ],
   "source": [
    "plt.plot(df)\n",
    "plt.xticks(rotation='vertical')"
   ]
  },
  {
   "cell_type": "markdown",
   "metadata": {},
   "source": [
    "Now we will instanciate our prophet model"
   ]
  },
  {
   "cell_type": "code",
   "execution_count": 44,
   "metadata": {
    "collapsed": false
   },
   "outputs": [],
   "source": [
    "my_model = Prophet(changepoint_prior_scale=0.01)"
   ]
  },
  {
   "cell_type": "markdown",
   "metadata": {},
   "source": [
    "and fit it with our dataframe df"
   ]
  },
  {
   "cell_type": "code",
   "execution_count": 45,
   "metadata": {
    "collapsed": false
   },
   "outputs": [
    {
     "data": {
      "text/plain": [
       "<fbprophet.forecaster.Prophet at 0x1182a8b90>"
      ]
     },
     "execution_count": 45,
     "metadata": {},
     "output_type": "execute_result"
    }
   ],
   "source": [
    "df['ds'] = df.index\n",
    "my_model.fit(df)"
   ]
  },
  {
   "cell_type": "markdown",
   "metadata": {},
   "source": [
    "Let's create the dataframe with the future dates we want to forcast. This means 7 days * 24 hours extra datepoints."
   ]
  },
  {
   "cell_type": "code",
   "execution_count": 46,
   "metadata": {
    "collapsed": false
   },
   "outputs": [
    {
     "data": {
      "text/html": [
       "<div>\n",
       "<style>\n",
       "    .dataframe thead tr:only-child th {\n",
       "        text-align: right;\n",
       "    }\n",
       "\n",
       "    .dataframe thead th {\n",
       "        text-align: left;\n",
       "    }\n",
       "\n",
       "    .dataframe tbody tr th {\n",
       "        vertical-align: top;\n",
       "    }\n",
       "</style>\n",
       "<table border=\"1\" class=\"dataframe\">\n",
       "  <thead>\n",
       "    <tr style=\"text-align: right;\">\n",
       "      <th></th>\n",
       "      <th>ds</th>\n",
       "    </tr>\n",
       "  </thead>\n",
       "  <tbody>\n",
       "    <tr>\n",
       "      <th>600</th>\n",
       "      <td>2016-01-30 12:00:00</td>\n",
       "    </tr>\n",
       "    <tr>\n",
       "      <th>601</th>\n",
       "      <td>2016-01-30 13:00:00</td>\n",
       "    </tr>\n",
       "    <tr>\n",
       "      <th>602</th>\n",
       "      <td>2016-01-30 14:00:00</td>\n",
       "    </tr>\n",
       "  </tbody>\n",
       "</table>\n",
       "</div>"
      ],
      "text/plain": [
       "                     ds\n",
       "600 2016-01-30 12:00:00\n",
       "601 2016-01-30 13:00:00\n",
       "602 2016-01-30 14:00:00"
      ]
     },
     "execution_count": 46,
     "metadata": {},
     "output_type": "execute_result"
    }
   ],
   "source": [
    "future_dates = my_model.make_future_dataframe(periods=7*24, freq='h')\n",
    "future_dates.tail(3)"
   ]
  },
  {
   "cell_type": "markdown",
   "metadata": {},
   "source": [
    "Let's create our forecast and analize our prediction components."
   ]
  },
  {
   "cell_type": "code",
   "execution_count": 48,
   "metadata": {
    "collapsed": false
   },
   "outputs": [
    {
     "data": {
      "text/html": [
       "<div>\n",
       "<style>\n",
       "    .dataframe thead tr:only-child th {\n",
       "        text-align: right;\n",
       "    }\n",
       "\n",
       "    .dataframe thead th {\n",
       "        text-align: left;\n",
       "    }\n",
       "\n",
       "    .dataframe tbody tr th {\n",
       "        vertical-align: top;\n",
       "    }\n",
       "</style>\n",
       "<table border=\"1\" class=\"dataframe\">\n",
       "  <thead>\n",
       "    <tr style=\"text-align: right;\">\n",
       "      <th></th>\n",
       "      <th>ds</th>\n",
       "      <th>trend</th>\n",
       "      <th>trend_lower</th>\n",
       "      <th>trend_upper</th>\n",
       "      <th>yhat_lower</th>\n",
       "      <th>yhat_upper</th>\n",
       "      <th>daily</th>\n",
       "      <th>daily_lower</th>\n",
       "      <th>daily_upper</th>\n",
       "      <th>seasonal</th>\n",
       "      <th>seasonal_lower</th>\n",
       "      <th>seasonal_upper</th>\n",
       "      <th>seasonalities</th>\n",
       "      <th>seasonalities_lower</th>\n",
       "      <th>seasonalities_upper</th>\n",
       "      <th>weekly</th>\n",
       "      <th>weekly_lower</th>\n",
       "      <th>weekly_upper</th>\n",
       "      <th>yhat</th>\n",
       "    </tr>\n",
       "  </thead>\n",
       "  <tbody>\n",
       "    <tr>\n",
       "      <th>600</th>\n",
       "      <td>2016-01-30 12:00:00</td>\n",
       "      <td>218.994769</td>\n",
       "      <td>218.990872</td>\n",
       "      <td>218.998795</td>\n",
       "      <td>376.092015</td>\n",
       "      <td>1186.230543</td>\n",
       "      <td>590.801343</td>\n",
       "      <td>590.801343</td>\n",
       "      <td>590.801343</td>\n",
       "      <td>573.607802</td>\n",
       "      <td>573.607802</td>\n",
       "      <td>573.607802</td>\n",
       "      <td>573.607802</td>\n",
       "      <td>573.607802</td>\n",
       "      <td>573.607802</td>\n",
       "      <td>-17.193541</td>\n",
       "      <td>-17.193541</td>\n",
       "      <td>-17.193541</td>\n",
       "      <td>792.602571</td>\n",
       "    </tr>\n",
       "    <tr>\n",
       "      <th>601</th>\n",
       "      <td>2016-01-30 13:00:00</td>\n",
       "      <td>219.061995</td>\n",
       "      <td>219.058048</td>\n",
       "      <td>219.066054</td>\n",
       "      <td>499.683354</td>\n",
       "      <td>1335.940043</td>\n",
       "      <td>731.111739</td>\n",
       "      <td>731.111739</td>\n",
       "      <td>731.111739</td>\n",
       "      <td>708.346685</td>\n",
       "      <td>708.346685</td>\n",
       "      <td>708.346685</td>\n",
       "      <td>708.346685</td>\n",
       "      <td>708.346685</td>\n",
       "      <td>708.346685</td>\n",
       "      <td>-22.765054</td>\n",
       "      <td>-22.765054</td>\n",
       "      <td>-22.765054</td>\n",
       "      <td>927.408679</td>\n",
       "    </tr>\n",
       "    <tr>\n",
       "      <th>602</th>\n",
       "      <td>2016-01-30 14:00:00</td>\n",
       "      <td>219.129220</td>\n",
       "      <td>219.125227</td>\n",
       "      <td>219.133322</td>\n",
       "      <td>282.760114</td>\n",
       "      <td>1119.692952</td>\n",
       "      <td>513.623238</td>\n",
       "      <td>513.623238</td>\n",
       "      <td>513.623238</td>\n",
       "      <td>484.412464</td>\n",
       "      <td>484.412464</td>\n",
       "      <td>484.412464</td>\n",
       "      <td>484.412464</td>\n",
       "      <td>484.412464</td>\n",
       "      <td>484.412464</td>\n",
       "      <td>-29.210774</td>\n",
       "      <td>-29.210774</td>\n",
       "      <td>-29.210774</td>\n",
       "      <td>703.541684</td>\n",
       "    </tr>\n",
       "  </tbody>\n",
       "</table>\n",
       "</div>"
      ],
      "text/plain": [
       "                     ds       trend  trend_lower  trend_upper  yhat_lower  \\\n",
       "600 2016-01-30 12:00:00  218.994769   218.990872   218.998795  376.092015   \n",
       "601 2016-01-30 13:00:00  219.061995   219.058048   219.066054  499.683354   \n",
       "602 2016-01-30 14:00:00  219.129220   219.125227   219.133322  282.760114   \n",
       "\n",
       "      yhat_upper       daily  daily_lower  daily_upper    seasonal  \\\n",
       "600  1186.230543  590.801343   590.801343   590.801343  573.607802   \n",
       "601  1335.940043  731.111739   731.111739   731.111739  708.346685   \n",
       "602  1119.692952  513.623238   513.623238   513.623238  484.412464   \n",
       "\n",
       "     seasonal_lower  seasonal_upper  seasonalities  seasonalities_lower  \\\n",
       "600      573.607802      573.607802     573.607802           573.607802   \n",
       "601      708.346685      708.346685     708.346685           708.346685   \n",
       "602      484.412464      484.412464     484.412464           484.412464   \n",
       "\n",
       "     seasonalities_upper     weekly  weekly_lower  weekly_upper        yhat  \n",
       "600           573.607802 -17.193541    -17.193541    -17.193541  792.602571  \n",
       "601           708.346685 -22.765054    -22.765054    -22.765054  927.408679  \n",
       "602           484.412464 -29.210774    -29.210774    -29.210774  703.541684  "
      ]
     },
     "execution_count": 48,
     "metadata": {},
     "output_type": "execute_result"
    }
   ],
   "source": [
    "forecast = my_model.predict(future_dates)\n",
    "forecast.tail(3)"
   ]
  },
  {
   "cell_type": "code",
   "execution_count": 49,
   "metadata": {
    "collapsed": false
   },
   "outputs": [
    {
     "data": {
      "image/png": "[encoded data removed]",
      "text/plain": [
       "<matplotlib.figure.Figure at 0x1182df090>"
      ]
     },
     "metadata": {},
     "output_type": "display_data"
    }
   ],
   "source": [
    "my_model.plot_components(forecast);"
   ]
  },
  {
   "cell_type": "markdown",
   "metadata": {},
   "source": [
    "Let's calculate the prediction for the next week (next 7*24 hours) from __2016-01-23 15:00__ to __2016-01-30 14:00__"
   ]
  },
  {
   "cell_type": "code",
   "execution_count": 42,
   "metadata": {
    "collapsed": false
   },
   "outputs": [
    {
     "name": "stdout",
     "output_type": "stream",
     "text": [
      "Next week sales forcast = 35870.6734192\n"
     ]
    }
   ],
   "source": [
    "##### get the last 7*24 points\n",
    "next_week = forecast.loc[:,['ds', 'yhat']].tail(7*24)\n",
    "# sum up all the values\n",
    "next_week_forecast = next_week['yhat'].sum()\n",
    "print (\"Next week sales forcast = {}\".format(next_week_forecast))"
   ]
  }
 ],
 "metadata": {
  "kernelspec": {
   "display_name": "Python 2",
   "language": "python",
   "name": "python2"
  },
  "language_info": {
   "codemirror_mode": {
    "name": "ipython",
    "version": 2
   },
   "file_extension": ".py",
   "mimetype": "text/x-python",
   "name": "python",
   "nbconvert_exporter": "python",
   "pygments_lexer": "ipython2",
   "version": "2.7.14"
  }
 },
 "nbformat": 4,
 "nbformat_minor": 0
}
